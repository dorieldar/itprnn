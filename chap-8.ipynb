{
 "cells": [
  {
   "cell_type": "code",
   "execution_count": 79,
   "metadata": {},
   "outputs": [],
   "source": [
    "import numpy as np\n",
    "from scipy.stats import entropy\n",
    "from scipy.special import entr, rel_entr\n",
    "import math"
   ]
  },
  {
   "cell_type": "code",
   "execution_count": 98,
   "metadata": {},
   "outputs": [
    {
     "data": {
      "text/plain": [
       "(array([ 0.25,  0.25,  0.25,  0.25]), array([ 0.5  ,  0.25 ,  0.125,  0.125]))"
      ]
     },
     "execution_count": 98,
     "metadata": {},
     "output_type": "execute_result"
    }
   ],
   "source": [
    "#ex 8.6\n",
    "P = [\n",
    "    1./8,1./16,1./32,1./32,\n",
    "    1./16,1./8,1./32,1./32,\n",
    "    1./16,1./16,1./16,1./16,\n",
    "    1./4,0.,0.,0.,]\n",
    "P = np.asarray(P).reshape((4,4))\n",
    "assert(np.sum(P) == 1)\n",
    "Py = np.sum(P, axis = 1)\n",
    "Px = np.sum(P, axis = 0)\n",
    "Py,Px"
   ]
  },
  {
   "cell_type": "code",
   "execution_count": 102,
   "metadata": {},
   "outputs": [],
   "source": [
    "#Px conditional on y\n",
    "def conditional(Pxy):\n",
    "    P = np.copy(Pxy)\n",
    "    for i in range(P.shape[0]):\n",
    "        pY = np.sum(P[i,:])\n",
    "        P[i,:]  /= pY\n",
    "    return P\n",
    "def conditional_information(pxy, pxcond_y):\n",
    "    if pxcond_y == 0.:\n",
    "        return 0\n",
    "    return -pxy*math.log2(pxcond_y)\n",
    "def conditional_entropy(Pxy):\n",
    "   #sum P(x,y) -log p(X|Y)\n",
    "    x_given_y = conditional(Pxy).reshape(-1)\n",
    "    joint = Pxy.reshape(-1)\n",
    "    sum = 0.\n",
    "    for i in range(joint.shape[0]):\n",
    "        sum += conditional_information(joint[i], x_given_y[i])\n",
    "    return sum\n"
   ]
  },
  {
   "cell_type": "code",
   "execution_count": 103,
   "metadata": {},
   "outputs": [
    {
     "name": "stdout",
     "output_type": "stream",
     "text": [
      "H(X,Y) = 3.375\n",
      "H(X) = 1.75 H(Y)= 2.0\n",
      "H(X|Y) = 1.375 H(Y|X) = 1.625\n",
      "I(X;Y) =  0.375 I(Y;X) =  0.375\n",
      "H(X|Y= 1 ) =  1.75\n",
      "H(X|Y= 2 ) =  1.75\n",
      "H(X|Y= 3 ) =  2.0\n",
      "H(X|Y= 4 ) =  0.0\n"
     ]
    }
   ],
   "source": [
    "H_XY = entropy(P.reshape(-1), base=2)\n",
    "H_X,H_Y = entropy(Px, base=2), entropy(Py, base=2)\n",
    "H_X_cond_Y, H_Y_cond_X = conditional_entropy(P),conditional_entropy(P.transpose())\n",
    "print('H(X,Y) =',H_XY)\n",
    "print('H(X) =', H_X, 'H(Y)=', H_Y)\n",
    "print('H(X|Y) =', H_X_cond_Y, 'H(Y|X) =', H_Y_cond_X) \n",
    "print('I(X;Y) = ', H_X - H_X_cond_Y, 'I(Y;X) = ', H_Y - H_Y_cond_X)\n",
    "\n",
    "x_cond_y = conditional(P)\n",
    "for i in range(x_cond_y.shape[0]):\n",
    "    #print(x_cond_y[i,:])\n",
    "    print('H(X|Y=',i+1,') = ', entropy(x_cond_y[i,:], base=2))    "
   ]
  }
 ],
 "metadata": {
  "kernelspec": {
   "display_name": "Python 3",
   "language": "python",
   "name": "python3"
  },
  "language_info": {
   "codemirror_mode": {
    "name": "ipython",
    "version": 3
   },
   "file_extension": ".py",
   "mimetype": "text/x-python",
   "name": "python",
   "nbconvert_exporter": "python",
   "pygments_lexer": "ipython3",
   "version": "3.6.3"
  }
 },
 "nbformat": 4,
 "nbformat_minor": 2
}
