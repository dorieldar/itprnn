{
 "cells": [
  {
   "cell_type": "code",
   "execution_count": 31,
   "metadata": {},
   "outputs": [],
   "source": [
    "import numpy as np\n",
    "import matplotlib.pyplot as plt\n",
    "from scipy.stats import entropy\n",
    "from scipy.special import entr, rel_entr\n",
    "import math\n",
    "import sympy\n",
    "from sympy import Symbol\n",
    "sympy.init_printing()"
   ]
  },
  {
   "cell_type": "code",
   "execution_count": 2,
   "metadata": {},
   "outputs": [
    {
     "data": {
      "text/plain": [
       "(array([ 0.25,  0.25,  0.25,  0.25]), array([ 0.5  ,  0.25 ,  0.125,  0.125]))"
      ]
     },
     "execution_count": 2,
     "metadata": {},
     "output_type": "execute_result"
    }
   ],
   "source": [
    "#ex 8.6\n",
    "P = [\n",
    "    1./8,1./16,1./32,1./32,\n",
    "    1./16,1./8,1./32,1./32,\n",
    "    1./16,1./16,1./16,1./16,\n",
    "    1./4,0.,0.,0.,]\n",
    "P = np.asarray(P).reshape((4,4))\n",
    "assert(np.sum(P) == 1)\n",
    "Py = np.sum(P, axis = 1)\n",
    "Px = np.sum(P, axis = 0)\n",
    "Py,Px"
   ]
  },
  {
   "cell_type": "code",
   "execution_count": 3,
   "metadata": {},
   "outputs": [],
   "source": [
    "#Px conditional on y\n",
    "def conditional(Pxy):\n",
    "    P = np.copy(Pxy)\n",
    "    for i in range(P.shape[0]):\n",
    "        pY = np.sum(P[i,:])\n",
    "        P[i,:]  /= pY\n",
    "    return P\n",
    "def conditional_information(pxy, pxcond_y):\n",
    "    if pxcond_y == 0.:\n",
    "        return 0\n",
    "    return -pxy*math.log2(pxcond_y)\n",
    "def conditional_entropy(Pxy):\n",
    "   #sum P(x,y) -log p(X|Y)\n",
    "    x_given_y = conditional(Pxy).reshape(-1)\n",
    "    joint = Pxy.reshape(-1)\n",
    "    sum = 0.\n",
    "    for i in range(joint.shape[0]):\n",
    "        sum += conditional_information(joint[i], x_given_y[i])\n",
    "    return sum\n"
   ]
  },
  {
   "cell_type": "code",
   "execution_count": 4,
   "metadata": {},
   "outputs": [
    {
     "name": "stdout",
     "output_type": "stream",
     "text": [
      "H(X,Y) = 3.375\n",
      "H(X) = 1.75 H(Y)= 2.0\n",
      "H(X|Y) = 1.375 H(Y|X) = 1.625\n",
      "I(X;Y) =  0.375 I(Y;X) =  0.375\n",
      "H(X|Y= 1 ) =  1.75\n",
      "H(X|Y= 2 ) =  1.75\n",
      "H(X|Y= 3 ) =  2.0\n",
      "H(X|Y= 4 ) =  0.0\n"
     ]
    }
   ],
   "source": [
    "H_XY = entropy(P.reshape(-1), base=2)\n",
    "H_X,H_Y = entropy(Px, base=2), entropy(Py, base=2)\n",
    "H_X_cond_Y, H_Y_cond_X = conditional_entropy(P),conditional_entropy(P.transpose())\n",
    "print('H(X,Y) =',H_XY)\n",
    "print('H(X) =', H_X, 'H(Y)=', H_Y)\n",
    "print('H(X|Y) =', H_X_cond_Y, 'H(Y|X) =', H_Y_cond_X) \n",
    "print('I(X;Y) = ', H_X - H_X_cond_Y, 'I(Y;X) = ', H_Y - H_Y_cond_X)\n",
    "\n",
    "x_cond_y = conditional(P)\n",
    "for i in range(x_cond_y.shape[0]):\n",
    "    #print(x_cond_y[i,:])\n",
    "    print('H(X|Y=',i+1,') = ', entropy(x_cond_y[i,:], base=2))    "
   ]
  },
  {
   "cell_type": "code",
   "execution_count": 5,
   "metadata": {},
   "outputs": [
    {
     "name": "stdout",
     "output_type": "stream",
     "text": [
      "Pz =  0.5 0.5\n",
      "I(Z;X) = 0.0\n"
     ]
    }
   ],
   "source": [
    "p,q,z = Symbol('p'),Symbol('q'), Symbol('z')\n",
    "\n",
    "def equ():\n",
    "    z = p*q + (1-p)*(1-q)\n",
    "    return z\n",
    "#(a)\n",
    "z = float(equ().subs('q',0.5).evalf())\n",
    "print ('Pz = ', z, 1-z)\n",
    "#H(Z|X) = H(Z)\n",
    "Izx = entropy([z,1-z], base=2) - entropy([z,1-z], base=2) \n",
    "print('I(Z;X) =', Izx)\n",
    "#(b)\n",
    "#H(Z|X) = H(Q) --> I(Z;X) = H(Z) - H(Y)"
   ]
  },
  {
   "cell_type": "code",
   "execution_count": 46,
   "metadata": {},
   "outputs": [
    {
     "name": "stdout",
     "output_type": "stream",
     "text": [
      "BSC: I(X:Y) = 0.390159695284\n",
      "zchannel: I(X:Y) = 0.678788110265\n"
     ]
    }
   ],
   "source": [
    "def bsc(p0,f):\n",
    "    _bsc = [p0*(1-f), (1-p0)*f, p0*(f), (1-p0)*(1-f)]\n",
    "    _bsc = np.asarray(_bsc).reshape((2,2))\n",
    "    return _bsc\n",
    "def Zchannel(p0,f):\n",
    "    _z = [p0,(1-p0)*f,0, (1-p0)*(1-f)]\n",
    "    _z =np.asarray(_z).reshape((2,2))\n",
    "    return _z\n",
    "#Ex 9.7\n",
    "p0 = 0.5\n",
    "f = 0.15\n",
    "XY = bsc(p0,f)\n",
    "X = np.sum(XY, axis = 0)\n",
    "Y = np.sum(XY, axis = 1)\n",
    "H_X = entropy(X, base=2)\n",
    "H_X_cond_Y = conditional_entropy(XY)\n",
    "print('BSC: I(X:Y) =', H_X - H_X_cond_Y)\n",
    "\n",
    "#ex 9.8\n",
    "XY = Zchannel(p0,f)\n",
    "X = np.sum(XY, axis = 0)\n",
    "Y = np.sum(XY, axis = 1)\n",
    "H_X = entropy(X, base=2)\n",
    "H_X_cond_Y = conditional_entropy(XY)\n",
    "print('zchannel: I(X:Y) =', H_X - H_X_cond_Y)"
   ]
  },
  {
   "cell_type": "code",
   "execution_count": 51,
   "metadata": {},
   "outputs": [
    {
     "data": {
      "image/png": "[encoded data removed]",
      "text/plain": [
       "<matplotlib.figure.Figure at 0x250c9894dd8>"
      ]
     },
     "metadata": {},
     "output_type": "display_data"
    }
   ],
   "source": [
    "#ex 9.12\n",
    "f = np.arange(0.0,1,0.001)\n",
    "y = []\n",
    "for p in f:\n",
    "    y.append(1 - entropy([p,1-p], base=2))\n",
    "plt.plot(f,y)\n",
    "plt.show()"
   ]
  },
  {
   "cell_type": "code",
   "execution_count": 85,
   "metadata": {},
   "outputs": [
    {
     "name": "stdout",
     "output_type": "stream",
     "text": [
      "CBEC = 0.85\n"
     ]
    }
   ],
   "source": [
    "#9.13\n",
    "def bec(p0,f):\n",
    "    _bec = [p0*(1-f), 0, p0*(f), (1-p0)*(f),0, (1-p0)*(1-f)]\n",
    "    _bec = np.asarray(_bec).reshape((3,2))\n",
    "    return _bec\n",
    "#capacity --> p =0.5 due to symetry argument\n",
    "f = 0.15\n",
    "Qbec = bec(0.5, f)\n",
    "X = np.sum(Qbec, axis = 0)\n",
    "Y = np.sum(Qbec, axis = 1)\n",
    "H_X = entropy(X, base=2)\n",
    "H_X_cond_Y = conditional_entropy(Qbec)\n",
    "print('CBEC =', H_X - H_X_cond_Y)\n",
    "#Capacity (f) = f --> H(Y |X) = [0, f, 0]\n"
   ]
  }
 ],
 "metadata": {
  "kernelspec": {
   "display_name": "Python 3",
   "language": "python",
   "name": "python3"
  },
  "language_info": {
   "codemirror_mode": {
    "name": "ipython",
    "version": 3
   },
   "file_extension": ".py",
   "mimetype": "text/x-python",
   "name": "python",
   "nbconvert_exporter": "python",
   "pygments_lexer": "ipython3",
   "version": "3.6.3"
  }
 },
 "nbformat": 4,
 "nbformat_minor": 2
}
